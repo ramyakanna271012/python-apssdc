{
 "cells": [
  {
   "cell_type": "markdown",
   "metadata": {},
   "source": [
    "# 12-09-2019"
   ]
  },
  {
   "cell_type": "markdown",
   "metadata": {},
   "source": [
    "## To print all numbers divisible by 6 nd not a factor of 100 using function"
   ]
  },
  {
   "cell_type": "code",
   "execution_count": 12,
   "metadata": {},
   "outputs": [
    {
     "name": "stdout",
     "output_type": "stream",
     "text": [
      "low bound1\n",
      "upper bound100\n",
      "6\n",
      "12\n",
      "18\n",
      "24\n",
      "30\n",
      "36\n",
      "42\n",
      "48\n",
      "54\n",
      "60\n",
      "66\n",
      "72\n",
      "78\n",
      "84\n",
      "90\n",
      "96\n"
     ]
    }
   ],
   "source": [
    "a=int(input(\"low bound\"))\n",
    "b=int(input(\"upper bound\"))\n",
    "def div(a,b):\n",
    "    for i in range(a,b+1):\n",
    "        if i%6==0 and 100%i!=0:\n",
    "            print(i)\n",
    "       \n",
    "div(a,b)\n",
    "                    \n",
    "\n",
    "        \n",
    "        "
   ]
  },
  {
   "cell_type": "markdown",
   "metadata": {},
   "source": [
    "## To print cube of even numbers"
   ]
  },
  {
   "cell_type": "code",
   "execution_count": 21,
   "metadata": {},
   "outputs": [
    {
     "name": "stdout",
     "output_type": "stream",
     "text": [
      "1\n",
      "10\n",
      "8\n",
      "64\n",
      "216\n",
      "512\n",
      "1000\n"
     ]
    }
   ],
   "source": [
    "a=int(input())\n",
    "b=int(input())\n",
    "def cube(a,b):\n",
    "    for i in range(a,b+1):\n",
    "        if i%2==0:\n",
    "            print(i**3)\n",
    "cube(a,b)"
   ]
  },
  {
   "cell_type": "markdown",
   "metadata": {},
   "source": [
    "## To print factors of given numbers"
   ]
  },
  {
   "cell_type": "code",
   "execution_count": 14,
   "metadata": {},
   "outputs": [
    {
     "name": "stdout",
     "output_type": "stream",
     "text": [
      "24\n",
      "1\n",
      "2\n",
      "3\n",
      "4\n",
      "6\n",
      "8\n",
      "12\n",
      "24\n"
     ]
    }
   ],
   "source": [
    "a=int(input())\n",
    "def fact(a):\n",
    "    for i in range(1,a+1):\n",
    "        if a%i==0:\n",
    "            print(i)\n",
    "fact(a)"
   ]
  },
  {
   "cell_type": "markdown",
   "metadata": {},
   "source": [
    "## Average of cube of even numbers in a limit"
   ]
  },
  {
   "cell_type": "code",
   "execution_count": 20,
   "metadata": {},
   "outputs": [
    {
     "name": "stdout",
     "output_type": "stream",
     "text": [
      "value1\n",
      "value10\n",
      "360\n"
     ]
    }
   ],
   "source": [
    "l=int(input(\"value\"))\n",
    "h=int(input(\"value\"))\n",
    "ec=0\n",
    "s=0\n",
    "def avg(m,x,y,s):\n",
    "   for i in range(l,h+1):\n",
    "       if i%2==0:\n",
    "           y=y+1\n",
    "           s=s+(i**3)\n",
    "   res=s/y\n",
    "   print(int(res))\n",
    "avg(l,h,ec,s)\n"
   ]
  },
  {
   "cell_type": "markdown",
   "metadata": {},
   "source": [
    "## To print highest number given in a dictionary"
   ]
  },
  {
   "cell_type": "code",
   "execution_count": 36,
   "metadata": {},
   "outputs": [
    {
     "name": "stdout",
     "output_type": "stream",
     "text": [
      "c top\n",
      "d second top\n",
      "b third top\n"
     ]
    }
   ],
   "source": [
    "d={\"a\":23,\"b\":59,\"c\":86,\"d\":74,\"e\":56}\n",
    "m=max(d.values())\n",
    "k=\"\"\n",
    "for i in d:\n",
    "    if(d[i]==m):\n",
    "        print(i,\"top\")\n",
    "        k=i\n",
    "d.pop(k) \n",
    "m=max(d.values())\n",
    "k=\"\"\n",
    "for i in d:\n",
    "    if(d[i]==m):\n",
    "        print(i,\"second top\")\n",
    "        k=i\n",
    "d.pop(k)\n",
    "m=max(d.values())\n",
    "k=\"\"\n",
    "for i in d:\n",
    "    if(d[i]==m):\n",
    "        print(i,\"third top\")\n",
    "        k=i\n",
    "       \n",
    "        \n",
    "        \n",
    "        "
   ]
  },
  {
   "cell_type": "markdown",
   "metadata": {},
   "source": [
    "## To find top 3 values in a dictionary using whie"
   ]
  },
  {
   "cell_type": "code",
   "execution_count": 41,
   "metadata": {},
   "outputs": [
    {
     "name": "stdout",
     "output_type": "stream",
     "text": [
      "c 86 top\n",
      "d 74 top\n",
      "b 59 top\n"
     ]
    }
   ],
   "source": [
    "\n",
    "d={\"a\":23,\"b\":59,\"c\":86,\"d\":74,\"e\":56}\n",
    "t=d.copy()\n",
    "j=1\n",
    "while j<=3:\n",
    "    m=max(t.values())\n",
    "    for i in d:\n",
    "        if d[i]==m:\n",
    "            print(i,d[i],\"top\")\n",
    "            t.pop(i)\n",
    "    j=j+1        \n",
    "        \n",
    "    \n",
    "\n"
   ]
  }
 ],
 "metadata": {
  "kernelspec": {
   "display_name": "Python 3",
   "language": "python",
   "name": "python3"
  },
  "language_info": {
   "codemirror_mode": {
    "name": "ipython",
    "version": 3
   },
   "file_extension": ".py",
   "mimetype": "text/x-python",
   "name": "python",
   "nbconvert_exporter": "python",
   "pygments_lexer": "ipython3",
   "version": "3.7.3"
  }
 },
 "nbformat": 4,
 "nbformat_minor": 2
}
