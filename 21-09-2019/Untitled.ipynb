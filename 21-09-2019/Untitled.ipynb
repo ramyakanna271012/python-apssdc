{
 "cells": [
  {
   "cell_type": "markdown",
   "metadata": {},
   "source": [
    "# 21-09-2019"
   ]
  },
  {
   "cell_type": "markdown",
   "metadata": {},
   "source": [
    "## To find the frequency of letters,words,lines in a file"
   ]
  },
  {
   "cell_type": "code",
   "execution_count": 5,
   "metadata": {},
   "outputs": [],
   "source": [
    "filePath=\"./files/sample.txt\"\n",
    "with open(filePath,'w') as f:\n",
    "    f.write(\"this is first line\\n\")\n",
    "    f.write(\"this is second line\\n\")\n",
    "    f.write(\"hello world\\n\")\n",
    "    \n",
    "  "
   ]
  },
  {
   "cell_type": "code",
   "execution_count": null,
   "metadata": {},
   "outputs": [],
   "source": [
    " filePath=\"./files/sample.txt\"\n",
    "with open(filePath,'w') as f:\n",
    "    "
   ]
  },
  {
   "cell_type": "code",
   "execution_count": null,
   "metadata": {},
   "outputs": [],
   "source": [
    " num_lines = 0\n",
    "    num_words = 0\n",
    "    num_chars = 0\n",
    "\n",
    "for line in feed:\n",
    "    lines = line.split('\\n')\n",
    "    num_lines += 1\n",
    "    num_words += len(words)\n",
    "    num_chars += len(line)\n",
    "    print(\"num_lines\")\n",
    "    print(\"num_words\")\n",
    "    print(\"num_chars\")"
   ]
  },
  {
   "cell_type": "code",
   "execution_count": 9,
   "metadata": {},
   "outputs": [
    {
     "name": "stdout",
     "output_type": "stream",
     "text": [
      "1111111111\n",
      "55\n",
      "legal ISBN\n"
     ]
    }
   ],
   "source": [
    "\n",
    "n=(input())\n",
    "j=1\n",
    "c=0\n",
    "if (len(n)==10):\n",
    "    for i in n:\n",
    "        c=c+(j*int(i))\n",
    "        j=j+1\n",
    "    print(c)\n",
    "    if(c%11==0):\n",
    "        print(\"legal ISBN\")\n",
    "       \n",
    "else:\n",
    "    print(\"INVALID ISBN\")\n",
    "\n"
   ]
  },
  {
   "cell_type": "code",
   "execution_count": null,
   "metadata": {},
   "outputs": [],
   "source": []
  }
 ],
 "metadata": {
  "kernelspec": {
   "display_name": "Python 3",
   "language": "python",
   "name": "python3"
  },
  "language_info": {
   "codemirror_mode": {
    "name": "ipython",
    "version": 3
   },
   "file_extension": ".py",
   "mimetype": "text/x-python",
   "name": "python",
   "nbconvert_exporter": "python",
   "pygments_lexer": "ipython3",
   "version": "3.7.3"
  }
 },
 "nbformat": 4,
 "nbformat_minor": 2
}
