{
 "cells": [
  {
   "cell_type": "markdown",
   "metadata": {},
   "source": [
    "# 19-09-2019"
   ]
  },
  {
   "cell_type": "markdown",
   "metadata": {},
   "source": [
    "## To print multiple lines in a file"
   ]
  },
  {
   "cell_type": "code",
   "execution_count": 19,
   "metadata": {},
   "outputs": [],
   "source": [
    "filePath=\"./FILE/multi.txt\"\n",
    "with open(filePath,'w') as f:\n",
    "    f.write(\"this is first line\\n\")\n",
    "    f.write(\"this is second line\\n\")\n",
    "    f.write(\"hello world\\n\")"
   ]
  },
  {
   "cell_type": "markdown",
   "metadata": {},
   "source": [
    "## To read lines from file"
   ]
  },
  {
   "cell_type": "code",
   "execution_count": 32,
   "metadata": {},
   "outputs": [
    {
     "name": "stdout",
     "output_type": "stream",
     "text": [
      "['this is first line\\n', 'this is second line\\n', 'hello world\\n', 'this is ramya']\n"
     ]
    }
   ],
   "source": [
    "filePath=\"./FILE/multi.txt\"\n",
    "with open(filePath,'r') as f:\n",
    "    print(f.readlines())"
   ]
  },
  {
   "cell_type": "markdown",
   "metadata": {},
   "source": [
    "## To append a line to the existing file"
   ]
  },
  {
   "cell_type": "code",
   "execution_count": 31,
   "metadata": {},
   "outputs": [],
   "source": [
    "filePath=\"./FILE/multi.txt\"\n",
    "with open(filePath,'a+') as f:\n",
    "    f.write(\"this is ramya\")\n",
    "    "
   ]
  },
  {
   "cell_type": "markdown",
   "metadata": {},
   "source": [
    "## To print a particular line from the file"
   ]
  },
  {
   "cell_type": "code",
   "execution_count": 33,
   "metadata": {},
   "outputs": [
    {
     "name": "stdout",
     "output_type": "stream",
     "text": [
      "this is ramya\n"
     ]
    }
   ],
   "source": [
    "filePath=\"./FILE/multi.txt\"\n",
    "with open(filePath,'r') as f:\n",
    "    data=f.readlines()\n",
    "    l=list(data)\n",
    "    print(l[3])"
   ]
  },
  {
   "cell_type": "markdown",
   "metadata": {},
   "source": [
    "## To filter duplicate terms in a list"
   ]
  },
  {
   "cell_type": "code",
   "execution_count": 38,
   "metadata": {},
   "outputs": [
    {
     "name": "stdout",
     "output_type": "stream",
     "text": [
      "['ramya', 'bujji', 'kranthi']\n"
     ]
    }
   ],
   "source": [
    "l=[\"ramya\",\"bujji\",\"kranthi\",\"ramya\"]\n",
    "t=[]\n",
    "for i in l:\n",
    "    if i not in t:\n",
    "        t.append(i)\n",
    "print(t)        "
   ]
  },
  {
   "cell_type": "markdown",
   "metadata": {},
   "source": [
    "## To print count of all numbers divisble by a number"
   ]
  },
  {
   "cell_type": "code",
   "execution_count": 40,
   "metadata": {},
   "outputs": [
    {
     "name": "stdout",
     "output_type": "stream",
     "text": [
      "1 10 3\n",
      "3\n"
     ]
    }
   ],
   "source": [
    "n=input()\n",
    "n=n.split()\n",
    "lb=int(n[0])\n",
    "ub=int(n[1])\n",
    "d=int(n[2])\n",
    "c=0\n",
    "for i in range(lb,ub+1):\n",
    "    if i%d==0:\n",
    "        c=c+1\n",
    "print(c)        \n"
   ]
  },
  {
   "cell_type": "code",
   "execution_count": null,
   "metadata": {},
   "outputs": [],
   "source": []
  }
 ],
 "metadata": {
  "kernelspec": {
   "display_name": "Python 3",
   "language": "python",
   "name": "python3"
  },
  "language_info": {
   "codemirror_mode": {
    "name": "ipython",
    "version": 3
   },
   "file_extension": ".py",
   "mimetype": "text/x-python",
   "name": "python",
   "nbconvert_exporter": "python",
   "pygments_lexer": "ipython3",
   "version": "3.7.3"
  }
 },
 "nbformat": 4,
 "nbformat_minor": 2
}
