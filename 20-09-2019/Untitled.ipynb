{
 "cells": [
  {
   "cell_type": "markdown",
   "metadata": {},
   "source": [
    "# 20-09-2019"
   ]
  },
  {
   "cell_type": "markdown",
   "metadata": {},
   "source": [
    "## To print the no.of matchsticks in terms of 1's for a required number "
   ]
  },
  {
   "cell_type": "code",
   "execution_count": 8,
   "metadata": {},
   "outputs": [
    {
     "name": "stdout",
     "output_type": "stream",
     "text": [
      "enter test cases1\n",
      "enter123\n",
      "2\n",
      "5\n",
      "5\n",
      "111111111111\n"
     ]
    }
   ],
   "source": [
    "d={'0':6,'1':2,'2':5,'3':5,'4':4,'5':5,'6':6,'7':3,'8':7,'9':6}\n",
    "n=int(input(\"enter test cases\"))\n",
    "for i in range(n):\n",
    "    b=input(\"enter\")\n",
    "    c=0\n",
    "    for j in b:\n",
    "        print(d[j])\n",
    "        c=c+d[j]\n",
    "    if c%2==0:\n",
    "        print(\"1\"*c)\n",
    "    else:\n",
    "        print(\"7\",(\"1\"*(c-1)))\n",
    "\n",
    "\n",
    "   "
   ]
  },
  {
   "cell_type": "markdown",
   "metadata": {},
   "source": []
  }
 ],
 "metadata": {
  "kernelspec": {
   "display_name": "Python 3",
   "language": "python",
   "name": "python3"
  },
  "language_info": {
   "codemirror_mode": {
    "name": "ipython",
    "version": 3
   },
   "file_extension": ".py",
   "mimetype": "text/x-python",
   "name": "python",
   "nbconvert_exporter": "python",
   "pygments_lexer": "ipython3",
   "version": "3.7.3"
  }
 },
 "nbformat": 4,
 "nbformat_minor": 2
}
