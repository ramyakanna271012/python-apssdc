{
 "cells": [
  {
   "cell_type": "markdown",
   "metadata": {},
   "source": [
    "# 11-09-2019"
   ]
  },
  {
   "cell_type": "markdown",
   "metadata": {},
   "source": [
    "## To reverse a nummber"
   ]
  },
  {
   "cell_type": "code",
   "execution_count": 12,
   "metadata": {},
   "outputs": [
    {
     "name": "stdout",
     "output_type": "stream",
     "text": [
      "567\n",
      "765\n"
     ]
    }
   ],
   "source": [
    "a=input()\n",
    "r=a[::-1]\n",
    "int(r)\n",
    "r=int(r)\n",
    "print(r)"
   ]
  },
  {
   "cell_type": "markdown",
   "metadata": {},
   "source": [
    "## Typecasting"
   ]
  },
  {
   "cell_type": "code",
   "execution_count": 13,
   "metadata": {},
   "outputs": [
    {
     "name": "stdout",
     "output_type": "stream",
     "text": [
      "567\n"
     ]
    },
    {
     "data": {
      "text/plain": [
       "int"
      ]
     },
     "execution_count": 13,
     "metadata": {},
     "output_type": "execute_result"
    }
   ],
   "source": [
    "a=input()\n",
    "r=a[::-1]\n",
    "int(r)\n",
    "r=int(r)\n",
    "type(r)"
   ]
  },
  {
   "cell_type": "markdown",
   "metadata": {},
   "source": [
    "##  To check whether a number  is palindrome or not"
   ]
  },
  {
   "cell_type": "code",
   "execution_count": 11,
   "metadata": {},
   "outputs": [
    {
     "name": "stdout",
     "output_type": "stream",
     "text": [
      "12121\n",
      "12121\n",
      "pal\n"
     ]
    }
   ],
   "source": [
    "a=input()\n",
    "r=a[::-1]\n",
    "print(r)\n",
    "if r==a:\n",
    "    print(\"pal\")\n",
    "else:\n",
    "    print(\"not pal\")"
   ]
  },
  {
   "cell_type": "markdown",
   "metadata": {},
   "source": [
    "## To print all perfect numbers in a range using function"
   ]
  },
  {
   "cell_type": "code",
   "execution_count": 7,
   "metadata": {},
   "outputs": [
    {
     "name": "stdout",
     "output_type": "stream",
     "text": [
      "lower5\n",
      "upper10\n",
      "6\n"
     ]
    }
   ],
   "source": [
    "a=int(input(\"lower\"))\n",
    "b=int(input(\"upper\"))\n",
    "s=0\n",
    "def findFactor(n,s):\n",
    "    for i in range(1,n):\n",
    "        if a%i==0:\n",
    "            s=s+i\n",
    "    if(s==n):       \n",
    "           print(n)\n",
    "   \n",
    "for k in range(a,b+1):\n",
    "   findFactor(k,s)"
   ]
  },
  {
   "cell_type": "markdown",
   "metadata": {},
   "source": [
    "## To print special number"
   ]
  },
  {
   "cell_type": "code",
   "execution_count": 11,
   "metadata": {},
   "outputs": [
    {
     "name": "stdout",
     "output_type": "stream",
     "text": [
      "89\n",
      "sp\n"
     ]
    }
   ],
   "source": [
    "a=int(input())\n",
    "if a<=9:\n",
    "    print(\"valid num\")\n",
    "else:\n",
    "    first=a//10\n",
    "    last=a%10\n",
    "    add=first+last\n",
    "    pro=first*last\n",
    "    r=add+pro\n",
    "    if(r==a):\n",
    "        print(\"sp\")\n",
    "    else:\n",
    "        print(\"nsp\")\n",
    "\n",
    "    "
   ]
  },
  {
   "cell_type": "markdown",
   "metadata": {},
   "source": [
    "## To print all prime numbers in a range"
   ]
  },
  {
   "cell_type": "code",
   "execution_count": 15,
   "metadata": {},
   "outputs": [
    {
     "name": "stdout",
     "output_type": "stream",
     "text": [
      "lower1\n",
      "upper10\n",
      "2\n",
      "3\n",
      "5\n",
      "7\n"
     ]
    }
   ],
   "source": [
    "a=int(input(\"lower\"))\n",
    "b=int(input(\"upper\"))\n",
    "s=0\n",
    "def findFactor(n,s):\n",
    "    for i in range(1,n+1):\n",
    "        if n%i==0:\n",
    "            s=s+1\n",
    "    if(s==2):       \n",
    "           print(n)\n",
    "   \n",
    "for k in range(a,b+1):\n",
    "   findFactor(k,s)"
   ]
  },
  {
   "cell_type": "code",
   "execution_count": null,
   "metadata": {},
   "outputs": [],
   "source": []
  }
 ],
 "metadata": {
  "kernelspec": {
   "display_name": "Python 3",
   "language": "python",
   "name": "python3"
  },
  "language_info": {
   "codemirror_mode": {
    "name": "ipython",
    "version": 3
   },
   "file_extension": ".py",
   "mimetype": "text/x-python",
   "name": "python",
   "nbconvert_exporter": "python",
   "pygments_lexer": "ipython3",
   "version": "3.7.3"
  }
 },
 "nbformat": 4,
 "nbformat_minor": 2
}
